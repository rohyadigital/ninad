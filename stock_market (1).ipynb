{
 "cells": [
  {
   "cell_type": "code",
   "execution_count": 1,
   "id": "8cf8bc1a",
   "metadata": {},
   "outputs": [],
   "source": [
    "import tensorflow"
   ]
  },
  {
   "cell_type": "code",
   "execution_count": 2,
   "id": "52aa91da",
   "metadata": {},
   "outputs": [],
   "source": [
    "import pandas_datareader.data as pdr"
   ]
  },
  {
   "cell_type": "code",
   "execution_count": 3,
   "id": "d1480a62",
   "metadata": {},
   "outputs": [],
   "source": [
    "import pandas as pd"
   ]
  },
  {
   "cell_type": "code",
   "execution_count": 4,
   "id": "740c6eb7",
   "metadata": {},
   "outputs": [],
   "source": [
    "import datetime as dt"
   ]
  },
  {
   "cell_type": "code",
   "execution_count": 5,
   "id": "50142e86",
   "metadata": {},
   "outputs": [],
   "source": [
    "df = pdr.DataReader('RELIANCE.NS','yahoo', start='2015-01-01', end='2020-12-31')"
   ]
  },
  {
   "cell_type": "code",
   "execution_count": 6,
   "id": "57d46637",
   "metadata": {},
   "outputs": [
    {
     "data": {
      "text/plain": [
       "<bound method NDFrame.head of                    High          Low         Open        Close      Volume  \\\n",
       "Date                                                                         \n",
       "2015-01-01   441.812073   437.676270   438.988831   439.781311   1367720.0   \n",
       "2015-01-02   443.818054   437.998199   439.880371   438.617340   3383424.0   \n",
       "2015-01-05   441.267212   432.946106   438.344940   433.812897   4662967.0   \n",
       "2015-01-06   432.401276   412.093750   430.915344   414.124512   8596809.0   \n",
       "2015-01-07   425.367950   414.570282   414.619812   423.139069   9562421.0   \n",
       "...                 ...          ...          ...          ...         ...   \n",
       "2020-12-24  1998.800049  1945.900024  1947.000000  1994.150024   9588577.0   \n",
       "2020-12-28  2018.000000  1995.300049  2006.699951  2003.300049   7947719.0   \n",
       "2020-12-29  2012.300049  1982.550049  2009.000000  1990.050049   8589407.0   \n",
       "2020-12-30  2007.199951  1975.550049  1995.250000  1995.500000  10173132.0   \n",
       "2020-12-31  2011.900024  1978.599976  1993.500000  1985.300049   8667516.0   \n",
       "\n",
       "              Adj Close  \n",
       "Date                     \n",
       "2015-01-01   419.247375  \n",
       "2015-01-02   418.137695  \n",
       "2015-01-05   413.557648  \n",
       "2015-01-06   394.788483  \n",
       "2015-01-07   403.382172  \n",
       "...                 ...  \n",
       "2020-12-24  1987.755615  \n",
       "2020-12-28  1996.876221  \n",
       "2020-12-29  1983.668701  \n",
       "2020-12-30  1989.101196  \n",
       "2020-12-31  1978.933960  \n",
       "\n",
       "[1478 rows x 6 columns]>"
      ]
     },
     "execution_count": 6,
     "metadata": {},
     "output_type": "execute_result"
    }
   ],
   "source": [
    "df.head"
   ]
  },
  {
   "cell_type": "code",
   "execution_count": 7,
   "id": "36d63206",
   "metadata": {},
   "outputs": [],
   "source": [
    "df.to_csv('RELIANCE.NS.csv')"
   ]
  },
  {
   "cell_type": "code",
   "execution_count": 8,
   "id": "9fa47b72",
   "metadata": {},
   "outputs": [],
   "source": [
    "df = pd.read_csv('RELIANCE.NS.csv')"
   ]
  },
  {
   "cell_type": "code",
   "execution_count": 9,
   "id": "55e368ce",
   "metadata": {},
   "outputs": [
    {
     "data": {
      "text/html": [
       "<div>\n",
       "<style scoped>\n",
       "    .dataframe tbody tr th:only-of-type {\n",
       "        vertical-align: middle;\n",
       "    }\n",
       "\n",
       "    .dataframe tbody tr th {\n",
       "        vertical-align: top;\n",
       "    }\n",
       "\n",
       "    .dataframe thead th {\n",
       "        text-align: right;\n",
       "    }\n",
       "</style>\n",
       "<table border=\"1\" class=\"dataframe\">\n",
       "  <thead>\n",
       "    <tr style=\"text-align: right;\">\n",
       "      <th></th>\n",
       "      <th>Date</th>\n",
       "      <th>High</th>\n",
       "      <th>Low</th>\n",
       "      <th>Open</th>\n",
       "      <th>Close</th>\n",
       "      <th>Volume</th>\n",
       "      <th>Adj Close</th>\n",
       "    </tr>\n",
       "  </thead>\n",
       "  <tbody>\n",
       "    <tr>\n",
       "      <th>0</th>\n",
       "      <td>2015-01-01</td>\n",
       "      <td>441.812073</td>\n",
       "      <td>437.676270</td>\n",
       "      <td>438.988831</td>\n",
       "      <td>439.781311</td>\n",
       "      <td>1367720.0</td>\n",
       "      <td>419.247375</td>\n",
       "    </tr>\n",
       "    <tr>\n",
       "      <th>1</th>\n",
       "      <td>2015-01-02</td>\n",
       "      <td>443.818054</td>\n",
       "      <td>437.998199</td>\n",
       "      <td>439.880371</td>\n",
       "      <td>438.617340</td>\n",
       "      <td>3383424.0</td>\n",
       "      <td>418.137695</td>\n",
       "    </tr>\n",
       "    <tr>\n",
       "      <th>2</th>\n",
       "      <td>2015-01-05</td>\n",
       "      <td>441.267212</td>\n",
       "      <td>432.946106</td>\n",
       "      <td>438.344940</td>\n",
       "      <td>433.812897</td>\n",
       "      <td>4662967.0</td>\n",
       "      <td>413.557648</td>\n",
       "    </tr>\n",
       "    <tr>\n",
       "      <th>3</th>\n",
       "      <td>2015-01-06</td>\n",
       "      <td>432.401276</td>\n",
       "      <td>412.093750</td>\n",
       "      <td>430.915344</td>\n",
       "      <td>414.124512</td>\n",
       "      <td>8596809.0</td>\n",
       "      <td>394.788483</td>\n",
       "    </tr>\n",
       "    <tr>\n",
       "      <th>4</th>\n",
       "      <td>2015-01-07</td>\n",
       "      <td>425.367950</td>\n",
       "      <td>414.570282</td>\n",
       "      <td>414.619812</td>\n",
       "      <td>423.139069</td>\n",
       "      <td>9562421.0</td>\n",
       "      <td>403.382172</td>\n",
       "    </tr>\n",
       "  </tbody>\n",
       "</table>\n",
       "</div>"
      ],
      "text/plain": [
       "         Date        High         Low        Open       Close     Volume  \\\n",
       "0  2015-01-01  441.812073  437.676270  438.988831  439.781311  1367720.0   \n",
       "1  2015-01-02  443.818054  437.998199  439.880371  438.617340  3383424.0   \n",
       "2  2015-01-05  441.267212  432.946106  438.344940  433.812897  4662967.0   \n",
       "3  2015-01-06  432.401276  412.093750  430.915344  414.124512  8596809.0   \n",
       "4  2015-01-07  425.367950  414.570282  414.619812  423.139069  9562421.0   \n",
       "\n",
       "    Adj Close  \n",
       "0  419.247375  \n",
       "1  418.137695  \n",
       "2  413.557648  \n",
       "3  394.788483  \n",
       "4  403.382172  "
      ]
     },
     "execution_count": 9,
     "metadata": {},
     "output_type": "execute_result"
    }
   ],
   "source": [
    "df.head()"
   ]
  },
  {
   "cell_type": "code",
   "execution_count": 13,
   "id": "ddf95e64",
   "metadata": {},
   "outputs": [],
   "source": [
    "df1 = df.reset_index()['Close']"
   ]
  },
  {
   "cell_type": "code",
   "execution_count": 14,
   "id": "739df2e3",
   "metadata": {},
   "outputs": [
    {
     "data": {
      "text/plain": [
       "(1478,)"
      ]
     },
     "execution_count": 14,
     "metadata": {},
     "output_type": "execute_result"
    }
   ],
   "source": [
    "df1.shape"
   ]
  },
  {
   "cell_type": "code",
   "execution_count": 15,
   "id": "b62d20d8",
   "metadata": {},
   "outputs": [
    {
     "data": {
      "text/plain": [
       "[<matplotlib.lines.Line2D at 0x2782d79e940>]"
      ]
     },
     "execution_count": 15,
     "metadata": {},
     "output_type": "execute_result"
    },
    {
     "data": {
      "image/png": "[encoded data removed]",
      "text/plain": [
       "<Figure size 432x288 with 1 Axes>"
      ]
     },
     "metadata": {
      "needs_background": "light"
     },
     "output_type": "display_data"
    }
   ],
   "source": [
    "import matplotlib.pyplot as plt\n",
    "plt.plot(df1)"
   ]
  },
  {
   "cell_type": "code",
   "execution_count": 16,
   "id": "8a6e468d",
   "metadata": {},
   "outputs": [],
   "source": [
    "import numpy as np"
   ]
  },
  {
   "cell_type": "code",
   "execution_count": 17,
   "id": "7f102a3d",
   "metadata": {},
   "outputs": [],
   "source": [
    "### LSTM are sensitive to the scale of the data. so we apply MinMax scaler\n",
    "from sklearn.preprocessing import MinMaxScaler\n",
    "scaler = MinMaxScaler(feature_range=(0,1))\n",
    "df1=scaler.fit_transform(np.array(df1).reshape(-1,1))"
   ]
  },
  {
   "cell_type": "code",
   "execution_count": 18,
   "id": "3efd74e0",
   "metadata": {},
   "outputs": [
    {
     "data": {
      "text/plain": [
       "(1478, 1)"
      ]
     },
     "execution_count": 18,
     "metadata": {},
     "output_type": "execute_result"
    }
   ],
   "source": [
    "df1.shape"
   ]
  },
  {
   "cell_type": "code",
   "execution_count": 19,
   "id": "9f85af68",
   "metadata": {},
   "outputs": [
    {
     "name": "stdout",
     "output_type": "stream",
     "text": [
      "[[0.01987163]\n",
      " [0.01926633]\n",
      " [0.0167679 ]\n",
      " ...\n",
      " [0.82605137]\n",
      " [0.82888548]\n",
      " [0.82358125]]\n"
     ]
    }
   ],
   "source": [
    "print(df1)"
   ]
  },
  {
   "cell_type": "code",
   "execution_count": 20,
   "id": "0c3b34be",
   "metadata": {},
   "outputs": [],
   "source": [
    "###splitting dataset into train and test split\n",
    "training_size=int(len(df1)*0.65)\n",
    "test_size=len(df1)-training_size\n",
    "train_data,test_data=df1[0:training_size,:],df1[training_size:len(df1),:1]\n"
   ]
  },
  {
   "cell_type": "code",
   "execution_count": 21,
   "id": "dbc72506",
   "metadata": {},
   "outputs": [
    {
     "data": {
      "text/plain": [
       "(960, 518)"
      ]
     },
     "execution_count": 21,
     "metadata": {},
     "output_type": "execute_result"
    }
   ],
   "source": [
    "training_size,test_size"
   ]
  },
  {
   "cell_type": "code",
   "execution_count": 22,
   "id": "89609af3",
   "metadata": {},
   "outputs": [],
   "source": [
    "import numpy\n",
    "def create_dataset(dataset,time_step=1):\n",
    "    dataX, dataY = [], []\n",
    "    for i in range(len(dataset)-time_step-1):\n",
    "        a = dataset[i:(i+time_step),0]\n",
    "        dataX.append(a)\n",
    "        dataY.append(dataset[i+time_step,0])\n",
    "    return numpy.array(dataX), numpy.array(dataY)"
   ]
  },
  {
   "cell_type": "code",
   "execution_count": 23,
   "id": "25529fa0",
   "metadata": {},
   "outputs": [],
   "source": [
    "time_step = 100\n",
    "X_train, y_train = create_dataset(train_data, time_step)\n",
    "X_test, ytest = create_dataset(test_data, time_step)"
   ]
  },
  {
   "cell_type": "code",
   "execution_count": 24,
   "id": "7a5de30a",
   "metadata": {},
   "outputs": [
    {
     "name": "stdout",
     "output_type": "stream",
     "text": [
      "(859, 100)\n",
      "(859,)\n"
     ]
    },
    {
     "data": {
      "text/plain": [
       "(None, None)"
      ]
     },
     "execution_count": 24,
     "metadata": {},
     "output_type": "execute_result"
    }
   ],
   "source": [
    "print(X_train.shape), print(y_train.shape)"
   ]
  },
  {
   "cell_type": "code",
   "execution_count": 25,
   "id": "f6324873",
   "metadata": {},
   "outputs": [
    {
     "name": "stdout",
     "output_type": "stream",
     "text": [
      "(417, 100)\n",
      "(417,)\n"
     ]
    },
    {
     "data": {
      "text/plain": [
       "(None, None)"
      ]
     },
     "execution_count": 25,
     "metadata": {},
     "output_type": "execute_result"
    }
   ],
   "source": [
    "print(X_test.shape), print(ytest.shape)"
   ]
  },
  {
   "cell_type": "code",
   "execution_count": 26,
   "id": "d37ade8c",
   "metadata": {},
   "outputs": [],
   "source": [
    "#reshape input to be [samples, time steps, features] which is required for LSTM\n",
    "X_train = X_train.reshape(X_train.shape[0], X_train.shape[1], 1)\n",
    "X_test = X_test.reshape(X_test.shape[0], X_test.shape[1], 1)\n"
   ]
  },
  {
   "cell_type": "code",
   "execution_count": 27,
   "id": "e50d0650",
   "metadata": {},
   "outputs": [],
   "source": [
    "from tensorflow.keras.models import Sequential\n",
    "from tensorflow.keras.layers import Dense\n",
    "from tensorflow.keras.layers import LSTM"
   ]
  },
  {
   "cell_type": "code",
   "execution_count": 28,
   "id": "86d85e08",
   "metadata": {},
   "outputs": [],
   "source": [
    "model = Sequential()\n",
    "model.add(LSTM(50,return_sequences=True,input_shape=(100,1)))\n",
    "model.add(LSTM(50,return_sequences=True))\n",
    "model.add(LSTM(50))\n",
    "model.add(Dense(1))\n",
    "model.compile(loss='mean_squared_error',optimizer='adam')"
   ]
  },
  {
   "cell_type": "code",
   "execution_count": 29,
   "id": "34b56f03",
   "metadata": {},
   "outputs": [
    {
     "name": "stdout",
     "output_type": "stream",
     "text": [
      "Model: \"sequential\"\n",
      "_________________________________________________________________\n",
      "Layer (type)                 Output Shape              Param #   \n",
      "=================================================================\n",
      "lstm (LSTM)                  (None, 100, 50)           10400     \n",
      "_________________________________________________________________\n",
      "lstm_1 (LSTM)                (None, 100, 50)           20200     \n",
      "_________________________________________________________________\n",
      "lstm_2 (LSTM)                (None, 50)                20200     \n",
      "_________________________________________________________________\n",
      "dense (Dense)                (None, 1)                 51        \n",
      "=================================================================\n",
      "Total params: 50,851\n",
      "Trainable params: 50,851\n",
      "Non-trainable params: 0\n",
      "_________________________________________________________________\n"
     ]
    }
   ],
   "source": [
    "model.summary()"
   ]
  },
  {
   "cell_type": "code",
   "execution_count": 30,
   "id": "7861bb20",
   "metadata": {},
   "outputs": [
    {
     "name": "stdout",
     "output_type": "stream",
     "text": [
      "Epoch 1/100\n",
      "14/14 [==============================] - 10s 372ms/step - loss: 0.0075 - val_loss: 0.0349\n",
      "Epoch 2/100\n",
      "14/14 [==============================] - 3s 194ms/step - loss: 0.0010 - val_loss: 0.0081\n",
      "Epoch 3/100\n",
      "14/14 [==============================] - 3s 249ms/step - loss: 5.0167e-04 - val_loss: 0.0103\n",
      "Epoch 4/100\n",
      "14/14 [==============================] - 4s 259ms/step - loss: 3.9655e-04 - val_loss: 0.0073\n",
      "Epoch 5/100\n",
      "14/14 [==============================] - 4s 262ms/step - loss: 3.5746e-04 - val_loss: 0.0062\n",
      "Epoch 6/100\n",
      "14/14 [==============================] - 3s 246ms/step - loss: 3.4442e-04 - val_loss: 0.0066\n",
      "Epoch 7/100\n",
      "14/14 [==============================] - 4s 258ms/step - loss: 3.2596e-04 - val_loss: 0.0083\n",
      "Epoch 8/100\n",
      "14/14 [==============================] - 3s 229ms/step - loss: 3.2140e-04 - val_loss: 0.0065\n",
      "Epoch 9/100\n",
      "14/14 [==============================] - 4s 259ms/step - loss: 3.1031e-04 - val_loss: 0.0074\n",
      "Epoch 10/100\n",
      "14/14 [==============================] - 2s 166ms/step - loss: 3.1209e-04 - val_loss: 0.0065\n",
      "Epoch 11/100\n",
      "14/14 [==============================] - 3s 215ms/step - loss: 3.0362e-04 - val_loss: 0.0080\n",
      "Epoch 12/100\n",
      "14/14 [==============================] - 3s 186ms/step - loss: 2.9280e-04 - val_loss: 0.0060\n",
      "Epoch 13/100\n",
      "14/14 [==============================] - 3s 230ms/step - loss: 2.9138e-04 - val_loss: 0.0069\n",
      "Epoch 14/100\n",
      "14/14 [==============================] - 4s 265ms/step - loss: 3.1378e-04 - val_loss: 0.0064\n",
      "Epoch 15/100\n",
      "14/14 [==============================] - 4s 246ms/step - loss: 2.7594e-04 - val_loss: 0.0062\n",
      "Epoch 16/100\n",
      "14/14 [==============================] - 4s 267ms/step - loss: 2.5920e-04 - val_loss: 0.0092\n",
      "Epoch 17/100\n",
      "14/14 [==============================] - 3s 212ms/step - loss: 3.0552e-04 - val_loss: 0.0057\n",
      "Epoch 18/100\n",
      "14/14 [==============================] - 4s 272ms/step - loss: 2.9090e-04 - val_loss: 0.0054\n",
      "Epoch 19/100\n",
      "14/14 [==============================] - 3s 236ms/step - loss: 2.6456e-04 - val_loss: 0.0090\n",
      "Epoch 20/100\n",
      "14/14 [==============================] - 3s 241ms/step - loss: 2.9756e-04 - val_loss: 0.0045\n",
      "Epoch 21/100\n",
      "14/14 [==============================] - 3s 233ms/step - loss: 2.4021e-04 - val_loss: 0.0068\n",
      "Epoch 22/100\n",
      "14/14 [==============================] - 3s 237ms/step - loss: 2.4300e-04 - val_loss: 0.0086\n",
      "Epoch 23/100\n",
      "14/14 [==============================] - 3s 244ms/step - loss: 2.3159e-04 - val_loss: 0.0067\n",
      "Epoch 24/100\n",
      "14/14 [==============================] - 4s 254ms/step - loss: 2.2749e-04 - val_loss: 0.0068\n",
      "Epoch 25/100\n",
      "14/14 [==============================] - 4s 250ms/step - loss: 2.1528e-04 - val_loss: 0.0052\n",
      "Epoch 26/100\n",
      "14/14 [==============================] - 4s 253ms/step - loss: 2.1727e-04 - val_loss: 0.0035\n",
      "Epoch 27/100\n",
      "14/14 [==============================] - 3s 229ms/step - loss: 2.7021e-04 - val_loss: 0.0050\n",
      "Epoch 28/100\n",
      "14/14 [==============================] - 4s 255ms/step - loss: 2.6704e-04 - val_loss: 0.0078\n",
      "Epoch 29/100\n",
      "14/14 [==============================] - 4s 299ms/step - loss: 2.1842e-04 - val_loss: 0.0033\n",
      "Epoch 30/100\n",
      "14/14 [==============================] - 3s 233ms/step - loss: 2.0593e-04 - val_loss: 0.0039\n",
      "Epoch 31/100\n",
      "14/14 [==============================] - 3s 229ms/step - loss: 2.0364e-04 - val_loss: 0.0052\n",
      "Epoch 32/100\n",
      "14/14 [==============================] - 4s 261ms/step - loss: 1.9963e-04 - val_loss: 0.0032\n",
      "Epoch 33/100\n",
      "14/14 [==============================] - 3s 239ms/step - loss: 1.9785e-04 - val_loss: 0.0044\n",
      "Epoch 34/100\n",
      "14/14 [==============================] - 3s 235ms/step - loss: 2.1168e-04 - val_loss: 0.0030\n",
      "Epoch 35/100\n",
      "14/14 [==============================] - 3s 248ms/step - loss: 2.2131e-04 - val_loss: 0.0026\n",
      "Epoch 36/100\n",
      "14/14 [==============================] - 3s 240ms/step - loss: 2.3453e-04 - val_loss: 0.0053\n",
      "Epoch 37/100\n",
      "14/14 [==============================] - 4s 266ms/step - loss: 1.9119e-04 - val_loss: 0.0044\n",
      "Epoch 38/100\n",
      "14/14 [==============================] - 3s 248ms/step - loss: 1.9240e-04 - val_loss: 0.0041\n",
      "Epoch 39/100\n",
      "14/14 [==============================] - 4s 266ms/step - loss: 1.9337e-04 - val_loss: 0.0026\n",
      "Epoch 40/100\n",
      "14/14 [==============================] - 4s 255ms/step - loss: 1.8150e-04 - val_loss: 0.0041\n",
      "Epoch 41/100\n",
      "14/14 [==============================] - 4s 276ms/step - loss: 1.7775e-04 - val_loss: 0.0035\n",
      "Epoch 42/100\n",
      "14/14 [==============================] - 3s 247ms/step - loss: 1.7846e-04 - val_loss: 0.0024\n",
      "Epoch 43/100\n",
      "14/14 [==============================] - 3s 233ms/step - loss: 1.9951e-04 - val_loss: 0.0030\n",
      "Epoch 44/100\n",
      "14/14 [==============================] - 3s 249ms/step - loss: 1.8295e-04 - val_loss: 0.0045\n",
      "Epoch 45/100\n",
      "14/14 [==============================] - 4s 271ms/step - loss: 1.8815e-04 - val_loss: 0.0024\n",
      "Epoch 46/100\n",
      "14/14 [==============================] - 4s 288ms/step - loss: 1.8131e-04 - val_loss: 0.0031\n",
      "Epoch 47/100\n",
      "14/14 [==============================] - 3s 244ms/step - loss: 1.7093e-04 - val_loss: 0.0045\n",
      "Epoch 48/100\n",
      "14/14 [==============================] - 3s 240ms/step - loss: 1.7620e-04 - val_loss: 0.0021\n",
      "Epoch 49/100\n",
      "14/14 [==============================] - 3s 239ms/step - loss: 1.8172e-04 - val_loss: 0.0024\n",
      "Epoch 50/100\n",
      "14/14 [==============================] - 4s 274ms/step - loss: 1.6637e-04 - val_loss: 0.0018\n",
      "Epoch 51/100\n",
      "14/14 [==============================] - 3s 249ms/step - loss: 2.0966e-04 - val_loss: 0.0038\n",
      "Epoch 52/100\n",
      "14/14 [==============================] - 3s 237ms/step - loss: 2.0866e-04 - val_loss: 0.0064\n",
      "Epoch 53/100\n",
      "14/14 [==============================] - 3s 243ms/step - loss: 2.2327e-04 - val_loss: 0.0014\n",
      "Epoch 54/100\n",
      "14/14 [==============================] - 3s 241ms/step - loss: 1.8893e-04 - val_loss: 0.0028\n",
      "Epoch 55/100\n",
      "14/14 [==============================] - 3s 244ms/step - loss: 1.7198e-04 - val_loss: 0.0037\n",
      "Epoch 56/100\n",
      "14/14 [==============================] - 3s 239ms/step - loss: 1.6380e-04 - val_loss: 0.0038\n",
      "Epoch 57/100\n",
      "14/14 [==============================] - 3s 236ms/step - loss: 1.5911e-04 - val_loss: 0.0021\n",
      "Epoch 58/100\n",
      "14/14 [==============================] - 3s 232ms/step - loss: 1.6330e-04 - val_loss: 0.0034\n",
      "Epoch 59/100\n",
      "14/14 [==============================] - 3s 242ms/step - loss: 1.6439e-04 - val_loss: 0.0026\n",
      "Epoch 60/100\n",
      "14/14 [==============================] - 4s 256ms/step - loss: 1.7555e-04 - val_loss: 0.0025\n",
      "Epoch 61/100\n",
      "14/14 [==============================] - 3s 237ms/step - loss: 1.7798e-04 - val_loss: 0.0015\n",
      "Epoch 62/100\n",
      "14/14 [==============================] - 3s 248ms/step - loss: 1.7356e-04 - val_loss: 0.0026\n",
      "Epoch 63/100\n",
      "14/14 [==============================] - 3s 247ms/step - loss: 1.5228e-04 - val_loss: 0.0026\n",
      "Epoch 64/100\n",
      "14/14 [==============================] - 4s 260ms/step - loss: 1.5292e-04 - val_loss: 0.0036\n",
      "Epoch 65/100\n",
      "14/14 [==============================] - 4s 270ms/step - loss: 1.8376e-04 - val_loss: 0.0025\n",
      "Epoch 66/100\n",
      "14/14 [==============================] - 3s 235ms/step - loss: 1.8558e-04 - val_loss: 0.0016\n",
      "Epoch 67/100\n",
      "14/14 [==============================] - 3s 238ms/step - loss: 1.4408e-04 - val_loss: 0.0027\n",
      "Epoch 68/100\n",
      "14/14 [==============================] - 4s 258ms/step - loss: 1.6970e-04 - val_loss: 0.0039\n",
      "Epoch 69/100\n",
      "14/14 [==============================] - 3s 245ms/step - loss: 1.7615e-04 - val_loss: 0.0020\n",
      "Epoch 70/100\n",
      "14/14 [==============================] - 3s 245ms/step - loss: 1.8076e-04 - val_loss: 0.0015\n",
      "Epoch 71/100\n",
      "14/14 [==============================] - 3s 237ms/step - loss: 1.6959e-04 - val_loss: 0.0017\n",
      "Epoch 72/100\n",
      "14/14 [==============================] - 3s 237ms/step - loss: 1.4956e-04 - val_loss: 0.0039\n",
      "Epoch 73/100\n",
      "14/14 [==============================] - 3s 233ms/step - loss: 1.8094e-04 - val_loss: 0.0017\n",
      "Epoch 74/100\n",
      "14/14 [==============================] - 3s 248ms/step - loss: 1.6395e-04 - val_loss: 0.0015\n",
      "Epoch 75/100\n",
      "14/14 [==============================] - 4s 262ms/step - loss: 1.9016e-04 - val_loss: 0.0030\n",
      "Epoch 76/100\n",
      "14/14 [==============================] - 3s 236ms/step - loss: 1.4497e-04 - val_loss: 0.0027\n",
      "Epoch 77/100\n",
      "14/14 [==============================] - 3s 242ms/step - loss: 1.3965e-04 - val_loss: 0.0025\n",
      "Epoch 78/100\n",
      "14/14 [==============================] - 3s 237ms/step - loss: 1.3332e-04 - val_loss: 0.0020\n",
      "Epoch 79/100\n",
      "14/14 [==============================] - 2s 146ms/step - loss: 1.3700e-04 - val_loss: 0.0034\n",
      "Epoch 80/100\n",
      "14/14 [==============================] - 2s 121ms/step - loss: 1.3127e-04 - val_loss: 0.0031\n",
      "Epoch 81/100\n",
      "14/14 [==============================] - 2s 116ms/step - loss: 1.4850e-04 - val_loss: 0.0040\n",
      "Epoch 82/100\n",
      "14/14 [==============================] - 2s 120ms/step - loss: 1.4531e-04 - val_loss: 0.0018\n",
      "Epoch 83/100\n",
      "14/14 [==============================] - 2s 120ms/step - loss: 1.3343e-04 - val_loss: 0.0020\n",
      "Epoch 84/100\n",
      "14/14 [==============================] - 2s 120ms/step - loss: 1.2592e-04 - val_loss: 0.0030\n",
      "Epoch 85/100\n",
      "14/14 [==============================] - 2s 117ms/step - loss: 1.5188e-04 - val_loss: 0.0016\n",
      "Epoch 86/100\n",
      "14/14 [==============================] - 2s 117ms/step - loss: 1.2901e-04 - val_loss: 0.0016\n",
      "Epoch 87/100\n",
      "14/14 [==============================] - 2s 118ms/step - loss: 1.2474e-04 - val_loss: 0.0015\n",
      "Epoch 88/100\n",
      "14/14 [==============================] - 2s 117ms/step - loss: 1.3446e-04 - val_loss: 0.0033\n",
      "Epoch 89/100\n",
      "14/14 [==============================] - 2s 120ms/step - loss: 1.2390e-04 - val_loss: 0.0019\n",
      "Epoch 90/100\n",
      "14/14 [==============================] - 2s 127ms/step - loss: 1.6265e-04 - val_loss: 0.0013\n",
      "Epoch 91/100\n",
      "14/14 [==============================] - 2s 122ms/step - loss: 1.3976e-04 - val_loss: 0.0025\n",
      "Epoch 92/100\n",
      "14/14 [==============================] - 2s 120ms/step - loss: 1.2013e-04 - val_loss: 0.0024\n",
      "Epoch 93/100\n",
      "14/14 [==============================] - 2s 136ms/step - loss: 1.1368e-04 - val_loss: 0.0014\n",
      "Epoch 94/100\n",
      "14/14 [==============================] - 2s 139ms/step - loss: 1.1288e-04 - val_loss: 0.0025\n",
      "Epoch 95/100\n",
      "14/14 [==============================] - 2s 156ms/step - loss: 1.2514e-04 - val_loss: 0.0028\n",
      "Epoch 96/100\n",
      "14/14 [==============================] - 2s 152ms/step - loss: 1.2790e-04 - val_loss: 0.0024\n",
      "Epoch 97/100\n",
      "14/14 [==============================] - 2s 132ms/step - loss: 1.2361e-04 - val_loss: 0.0012\n",
      "Epoch 98/100\n",
      "14/14 [==============================] - 2s 143ms/step - loss: 1.3223e-04 - val_loss: 0.0012\n",
      "Epoch 99/100\n",
      "14/14 [==============================] - 2s 133ms/step - loss: 1.2445e-04 - val_loss: 0.0010\n",
      "Epoch 100/100\n",
      "14/14 [==============================] - 2s 132ms/step - loss: 1.2223e-04 - val_loss: 0.0021\n"
     ]
    },
    {
     "data": {
      "text/plain": [
       "<tensorflow.python.keras.callbacks.History at 0x2782daa0cd0>"
      ]
     },
     "execution_count": 30,
     "metadata": {},
     "output_type": "execute_result"
    }
   ],
   "source": [
    "model.fit(X_train,y_train,validation_data=(X_test,ytest),epochs=100,batch_size=64,verbose=1)"
   ]
  },
  {
   "cell_type": "code",
   "execution_count": 31,
   "id": "cdff4501",
   "metadata": {},
   "outputs": [],
   "source": [
    "import tensorflow as tf"
   ]
  },
  {
   "cell_type": "code",
   "execution_count": 32,
   "id": "b14b0546",
   "metadata": {},
   "outputs": [
    {
     "data": {
      "text/plain": [
       "'2.5.0'"
      ]
     },
     "execution_count": 32,
     "metadata": {},
     "output_type": "execute_result"
    }
   ],
   "source": [
    "tf.__version__"
   ]
  },
  {
   "cell_type": "code",
   "execution_count": 45,
   "id": "5ea92d92",
   "metadata": {},
   "outputs": [],
   "source": [
    "###Lets do the predicition and check performance metrics\n",
    "train_predict=model.predict(X_train)\n",
    "test_predict=model.predict(X_test)"
   ]
  },
  {
   "cell_type": "code",
   "execution_count": 46,
   "id": "8b3ea77b",
   "metadata": {},
   "outputs": [],
   "source": [
    "###Transformback to original form\n",
    "train_predict=scaler.inverse_transform(train_predict)\n",
    "test_predict=scaler.inverse_transform(test_predict)"
   ]
  },
  {
   "cell_type": "code",
   "execution_count": 35,
   "id": "1b3fd8ec",
   "metadata": {},
   "outputs": [
    {
     "name": "stdout",
     "output_type": "stream",
     "text": [
      "Requirement already satisfied: scikit-learn in c:\\users\\lnovo\\anaconda3\\lib\\site-packages (0.24.2)\n",
      "Requirement already satisfied: threadpoolctl>=2.0.0 in c:\\users\\lnovo\\anaconda3\\lib\\site-packages (from scikit-learn) (2.1.0)\n",
      "Requirement already satisfied: numpy>=1.13.3 in c:\\users\\lnovo\\anaconda3\\lib\\site-packages (from scikit-learn) (1.19.5)\n",
      "Requirement already satisfied: joblib>=0.11 in c:\\users\\lnovo\\anaconda3\\lib\\site-packages (from scikit-learn) (1.0.1)\n",
      "Requirement already satisfied: scipy>=0.19.1 in c:\\users\\lnovo\\appdata\\roaming\\python\\python38\\site-packages (from scikit-learn) (1.7.1)\n",
      "Note: you may need to restart the kernel to use updated packages.\n"
     ]
    }
   ],
   "source": [
    "pip install -U scikit-learn --user"
   ]
  },
  {
   "cell_type": "code",
   "execution_count": 47,
   "id": "e6886a04",
   "metadata": {},
   "outputs": [],
   "source": [
    "import sklearn"
   ]
  },
  {
   "cell_type": "code",
   "execution_count": 37,
   "id": "8579ec01",
   "metadata": {},
   "outputs": [
    {
     "name": "stdout",
     "output_type": "stream",
     "text": [
      "\n",
      "System:\n",
      "    python: 3.8.8 (default, Apr 13 2021, 15:08:03) [MSC v.1916 64 bit (AMD64)]\n",
      "executable: C:\\Users\\LNOVO\\anaconda3\\python.exe\n",
      "   machine: Windows-10-10.0.19041-SP0\n",
      "\n",
      "Python dependencies:\n",
      "          pip: 21.0.1\n",
      "   setuptools: 52.0.0.post20210125\n",
      "      sklearn: 0.24.2\n",
      "        numpy: 1.19.5\n",
      "        scipy: 1.7.1\n",
      "       Cython: 0.29.23\n",
      "       pandas: 1.2.4\n",
      "   matplotlib: 3.4.2\n",
      "       joblib: 1.0.1\n",
      "threadpoolctl: 2.1.0\n",
      "\n",
      "Built with OpenMP: True\n"
     ]
    }
   ],
   "source": [
    " sklearn.show_versions()"
   ]
  },
  {
   "cell_type": "code",
   "execution_count": 38,
   "id": "e6defa99",
   "metadata": {},
   "outputs": [
    {
     "name": "stdout",
     "output_type": "stream",
     "text": [
      "Requirement already satisfied: scikit-learn in c:\\users\\lnovo\\anaconda3\\lib\\site-packages (0.24.2)\n",
      "Requirement already satisfied: scipy in c:\\users\\lnovo\\appdata\\roaming\\python\\python38\\site-packages (1.7.1)\n",
      "Requirement already satisfied: matplotlib in c:\\users\\lnovo\\appdata\\roaming\\python\\python38\\site-packages (3.4.2)\n",
      "Requirement already satisfied: pyparsing>=2.2.1 in c:\\users\\lnovo\\anaconda3\\lib\\site-packages (from matplotlib) (2.4.7)\n",
      "Requirement already satisfied: numpy>=1.16 in c:\\users\\lnovo\\anaconda3\\lib\\site-packages (from matplotlib) (1.19.5)\n",
      "Requirement already satisfied: kiwisolver>=1.0.1 in c:\\users\\lnovo\\anaconda3\\lib\\site-packages (from matplotlib) (1.3.1)\n",
      "Requirement already satisfied: pillow>=6.2.0 in c:\\users\\lnovo\\anaconda3\\lib\\site-packages (from matplotlib) (8.2.0)\n",
      "Requirement already satisfied: cycler>=0.10 in c:\\users\\lnovo\\anaconda3\\lib\\site-packages (from matplotlib) (0.10.0)\n",
      "Requirement already satisfied: python-dateutil>=2.7 in c:\\users\\lnovo\\anaconda3\\lib\\site-packages (from matplotlib) (2.8.1)\n",
      "Requirement already satisfied: six in c:\\users\\lnovo\\anaconda3\\lib\\site-packages (from cycler>=0.10->matplotlib) (1.15.0)\n",
      "Requirement already satisfied: joblib>=0.11 in c:\\users\\lnovo\\anaconda3\\lib\\site-packages (from scikit-learn) (1.0.1)\n",
      "Requirement already satisfied: threadpoolctl>=2.0.0 in c:\\users\\lnovo\\anaconda3\\lib\\site-packages (from scikit-learn) (2.1.0)\n",
      "Note: you may need to restart the kernel to use updated packages.\n"
     ]
    }
   ],
   "source": [
    "pip install -U scikit-learn scipy matplotlib --user"
   ]
  },
  {
   "cell_type": "code",
   "execution_count": 39,
   "id": "cad7efff",
   "metadata": {},
   "outputs": [],
   "source": [
    "import sys"
   ]
  },
  {
   "cell_type": "code",
   "execution_count": 40,
   "id": "f2f3bf38",
   "metadata": {},
   "outputs": [
    {
     "name": "stdout",
     "output_type": "stream",
     "text": [
      "['C:\\\\Users\\\\LNOVO', 'C:\\\\Users\\\\LNOVO\\\\anaconda3\\\\python38.zip', 'C:\\\\Users\\\\LNOVO\\\\anaconda3\\\\DLLs', 'C:\\\\Users\\\\LNOVO\\\\anaconda3\\\\lib', 'C:\\\\Users\\\\LNOVO\\\\anaconda3', '', 'C:\\\\Users\\\\LNOVO\\\\AppData\\\\Roaming\\\\Python\\\\Python38\\\\site-packages', 'C:\\\\Users\\\\LNOVO\\\\anaconda3\\\\lib\\\\site-packages', 'C:\\\\Users\\\\LNOVO\\\\anaconda3\\\\lib\\\\site-packages\\\\locket-0.2.1-py3.8.egg', 'C:\\\\Users\\\\LNOVO\\\\anaconda3\\\\lib\\\\site-packages\\\\win32', 'C:\\\\Users\\\\LNOVO\\\\anaconda3\\\\lib\\\\site-packages\\\\win32\\\\lib', 'C:\\\\Users\\\\LNOVO\\\\anaconda3\\\\lib\\\\site-packages\\\\Pythonwin', 'C:\\\\Users\\\\LNOVO\\\\anaconda3\\\\lib\\\\site-packages\\\\IPython\\\\extensions', 'C:\\\\Users\\\\LNOVO\\\\.ipython']\n"
     ]
    }
   ],
   "source": [
    "print(sys.path)"
   ]
  },
  {
   "cell_type": "code",
   "execution_count": 41,
   "id": "292c3091",
   "metadata": {},
   "outputs": [
    {
     "data": {
      "text/plain": [
       "'0.24.2'"
      ]
     },
     "execution_count": 41,
     "metadata": {},
     "output_type": "execute_result"
    }
   ],
   "source": [
    "sklearn.__version__"
   ]
  },
  {
   "cell_type": "code",
   "execution_count": 48,
   "id": "7cec6956",
   "metadata": {
    "scrolled": true
   },
   "outputs": [
    {
     "data": {
      "text/plain": [
       "735.278834187403"
      ]
     },
     "execution_count": 48,
     "metadata": {},
     "output_type": "execute_result"
    }
   ],
   "source": [
    "###Calculate RMSE performance metrics\n",
    "import math\n",
    "from sklearn.metrics import mean_squared_error\n",
    "math.sqrt(mean_squared_error(y_train,train_predict))"
   ]
  },
  {
   "cell_type": "code",
   "execution_count": 49,
   "id": "da596e54",
   "metadata": {},
   "outputs": [
    {
     "data": {
      "text/plain": [
       "1547.7912681417406"
      ]
     },
     "execution_count": 49,
     "metadata": {},
     "output_type": "execute_result"
    }
   ],
   "source": [
    "### Test Data RMSE\n",
    "math.sqrt(mean_squared_error(ytest,test_predict))"
   ]
  },
  {
   "cell_type": "code",
   "execution_count": 51,
   "id": "f853c625",
   "metadata": {},
   "outputs": [
    {
     "data": {
      "text/plain": [
       "<function matplotlib.pyplot.show(close=None, block=None)>"
      ]
     },
     "execution_count": 51,
     "metadata": {},
     "output_type": "execute_result"
    },
    {
     "data": {
      "image/png": "[encoded data removed]",
      "text/plain": [
       "<Figure size 432x288 with 1 Axes>"
      ]
     },
     "metadata": {
      "needs_background": "light"
     },
     "output_type": "display_data"
    }
   ],
   "source": [
    "##Plotting\n",
    "#shift train prediction for plotting\n",
    "look_back =100\n",
    "trainPredictPlot = numpy.empty_like(df1)\n",
    "trainPredictPlot [:, :] =np.nan\n",
    "trainPredictPlot[look_back:len(train_predict)+look_back, :] = train_predict\n",
    "#shift test predictions for plotting\n",
    "testPredictPlot = numpy.empty_like(df1)\n",
    "testPredictPlot[:, :]=numpy.nan\n",
    "testPredictPlot[len(train_predict)+(look_back*2)+1:len(df1)-1, :] = test_predict\n",
    "#plot baseline and predictions\n",
    "plt.plot(scaler.inverse_transform(df1))\n",
    "plt.plot(trainPredictPlot)\n",
    "plt.plot(testPredictPlot)\n",
    "plt.show"
   ]
  },
  {
   "cell_type": "code",
   "execution_count": 52,
   "id": "d308ae07",
   "metadata": {},
   "outputs": [
    {
     "data": {
      "text/plain": [
       "518"
      ]
     },
     "execution_count": 52,
     "metadata": {},
     "output_type": "execute_result"
    }
   ],
   "source": [
    "len(test_data)"
   ]
  },
  {
   "cell_type": "code",
   "execution_count": 54,
   "id": "f228adc1",
   "metadata": {},
   "outputs": [
    {
     "data": {
      "text/plain": [
       "(1, 100)"
      ]
     },
     "execution_count": 54,
     "metadata": {},
     "output_type": "execute_result"
    }
   ],
   "source": [
    "x_input=test_data[418:].reshape(1,-1)\n",
    "x_input.shape"
   ]
  },
  {
   "cell_type": "code",
   "execution_count": 55,
   "id": "c0d4f5d0",
   "metadata": {},
   "outputs": [],
   "source": [
    "temp_input=list(x_input)\n",
    "temp_input=temp_input[0].tolist()"
   ]
  },
  {
   "cell_type": "code",
   "execution_count": 59,
   "id": "987d3d5d",
   "metadata": {},
   "outputs": [
    {
     "name": "stdout",
     "output_type": "stream",
     "text": [
      "0 day input[0.89758094 0.89469478 0.89040456 0.87873001 0.89287468 0.89963502\n",
      " 0.88169413 0.87378976 0.88101807 0.87391977 0.90262517 0.88874051\n",
      " 0.89162655 0.87319166 0.87659785 0.89789288 0.88952054 0.87139759\n",
      " 0.87420568 0.88692041 0.91513181 0.9945137  0.99750385 0.98855943\n",
      " 0.99703588 1.         0.98658331 0.99019746 0.96427425 0.941029\n",
      " 0.95124758 0.92545425 0.93611478 0.94368118 0.95865795 0.9530937\n",
      " 0.94836141 0.94157505 0.94061308 0.96513224 0.95564177 0.9526256\n",
      " 0.95449774 0.97719682 0.98073302 0.93861093 0.92264616 0.92285412\n",
      " 0.91229757 0.89602087 0.88684233 0.89001454 0.84635834 0.84916649\n",
      " 0.83717987 0.84521431 0.85956701 0.76749641 0.75342975 0.78608734\n",
      " 0.80782444 0.84638437 0.85759088 0.87519381 0.8297695  0.82082508\n",
      " 0.82935352 0.82771543 0.82456924 0.81726292 0.77896301 0.8055883\n",
      " 0.8125307  0.80408028 0.80657636 0.79471981 0.80777245 0.80946253\n",
      " 0.8125307  0.80353423 0.8094885  0.82797544 0.84524027 0.83486578\n",
      " 0.83424178 0.8267014  0.81788693 0.81903102 0.82373722 0.82683141\n",
      " 0.79986802 0.79830794 0.80202614 0.82818346 0.83294171 0.82605137\n",
      " 0.82888548 0.82358125 0.76958734 0.7514264 ]\n",
      "0 day out [[0.7265496]]\n",
      "1 day input[0.89469478 0.89040456 0.87873001 0.89287468 0.89963502 0.88169413\n",
      " 0.87378976 0.88101807 0.87391977 0.90262517 0.88874051 0.89162655\n",
      " 0.87319166 0.87659785 0.89789288 0.88952054 0.87139759 0.87420568\n",
      " 0.88692041 0.91513181 0.9945137  0.99750385 0.98855943 0.99703588\n",
      " 1.         0.98658331 0.99019746 0.96427425 0.941029   0.95124758\n",
      " 0.92545425 0.93611478 0.94368118 0.95865795 0.9530937  0.94836141\n",
      " 0.94157505 0.94061308 0.96513224 0.95564177 0.9526256  0.95449774\n",
      " 0.97719682 0.98073302 0.93861093 0.92264616 0.92285412 0.91229757\n",
      " 0.89602087 0.88684233 0.89001454 0.84635834 0.84916649 0.83717987\n",
      " 0.84521431 0.85956701 0.76749641 0.75342975 0.78608734 0.80782444\n",
      " 0.84638437 0.85759088 0.87519381 0.8297695  0.82082508 0.82935352\n",
      " 0.82771543 0.82456924 0.81726292 0.77896301 0.8055883  0.8125307\n",
      " 0.80408028 0.80657636 0.79471981 0.80777245 0.80946253 0.8125307\n",
      " 0.80353423 0.8094885  0.82797544 0.84524027 0.83486578 0.83424178\n",
      " 0.8267014  0.81788693 0.81903102 0.82373722 0.82683141 0.79986802\n",
      " 0.79830794 0.80202614 0.82818346 0.83294171 0.82605137 0.82888548\n",
      " 0.82358125 0.76958734 0.7514264  0.72654963]\n",
      "1 day out [[0.7002912]]\n",
      "2 day input[0.89040456 0.87873001 0.89287468 0.89963502 0.88169413 0.87378976\n",
      " 0.88101807 0.87391977 0.90262517 0.88874051 0.89162655 0.87319166\n",
      " 0.87659785 0.89789288 0.88952054 0.87139759 0.87420568 0.88692041\n",
      " 0.91513181 0.9945137  0.99750385 0.98855943 0.99703588 1.\n",
      " 0.98658331 0.99019746 0.96427425 0.941029   0.95124758 0.92545425\n",
      " 0.93611478 0.94368118 0.95865795 0.9530937  0.94836141 0.94157505\n",
      " 0.94061308 0.96513224 0.95564177 0.9526256  0.95449774 0.97719682\n",
      " 0.98073302 0.93861093 0.92264616 0.92285412 0.91229757 0.89602087\n",
      " 0.88684233 0.89001454 0.84635834 0.84916649 0.83717987 0.84521431\n",
      " 0.85956701 0.76749641 0.75342975 0.78608734 0.80782444 0.84638437\n",
      " 0.85759088 0.87519381 0.8297695  0.82082508 0.82935352 0.82771543\n",
      " 0.82456924 0.81726292 0.77896301 0.8055883  0.8125307  0.80408028\n",
      " 0.80657636 0.79471981 0.80777245 0.80946253 0.8125307  0.80353423\n",
      " 0.8094885  0.82797544 0.84524027 0.83486578 0.83424178 0.8267014\n",
      " 0.81788693 0.81903102 0.82373722 0.82683141 0.79986802 0.79830794\n",
      " 0.80202614 0.82818346 0.83294171 0.82605137 0.82888548 0.82358125\n",
      " 0.76958734 0.7514264  0.72654963 0.70029122]\n",
      "2 day out [[0.6747222]]\n",
      "3 day input[0.87873001 0.89287468 0.89963502 0.88169413 0.87378976 0.88101807\n",
      " 0.87391977 0.90262517 0.88874051 0.89162655 0.87319166 0.87659785\n",
      " 0.89789288 0.88952054 0.87139759 0.87420568 0.88692041 0.91513181\n",
      " 0.9945137  0.99750385 0.98855943 0.99703588 1.         0.98658331\n",
      " 0.99019746 0.96427425 0.941029   0.95124758 0.92545425 0.93611478\n",
      " 0.94368118 0.95865795 0.9530937  0.94836141 0.94157505 0.94061308\n",
      " 0.96513224 0.95564177 0.9526256  0.95449774 0.97719682 0.98073302\n",
      " 0.93861093 0.92264616 0.92285412 0.91229757 0.89602087 0.88684233\n",
      " 0.89001454 0.84635834 0.84916649 0.83717987 0.84521431 0.85956701\n",
      " 0.76749641 0.75342975 0.78608734 0.80782444 0.84638437 0.85759088\n",
      " 0.87519381 0.8297695  0.82082508 0.82935352 0.82771543 0.82456924\n",
      " 0.81726292 0.77896301 0.8055883  0.8125307  0.80408028 0.80657636\n",
      " 0.79471981 0.80777245 0.80946253 0.8125307  0.80353423 0.8094885\n",
      " 0.82797544 0.84524027 0.83486578 0.83424178 0.8267014  0.81788693\n",
      " 0.81903102 0.82373722 0.82683141 0.79986802 0.79830794 0.80202614\n",
      " 0.82818346 0.83294171 0.82605137 0.82888548 0.82358125 0.76958734\n",
      " 0.7514264  0.72654963 0.70029122 0.67472219]\n",
      "3 day out [[0.6504848]]\n",
      "4 day input[0.89287468 0.89963502 0.88169413 0.87378976 0.88101807 0.87391977\n",
      " 0.90262517 0.88874051 0.89162655 0.87319166 0.87659785 0.89789288\n",
      " 0.88952054 0.87139759 0.87420568 0.88692041 0.91513181 0.9945137\n",
      " 0.99750385 0.98855943 0.99703588 1.         0.98658331 0.99019746\n",
      " 0.96427425 0.941029   0.95124758 0.92545425 0.93611478 0.94368118\n",
      " 0.95865795 0.9530937  0.94836141 0.94157505 0.94061308 0.96513224\n",
      " 0.95564177 0.9526256  0.95449774 0.97719682 0.98073302 0.93861093\n",
      " 0.92264616 0.92285412 0.91229757 0.89602087 0.88684233 0.89001454\n",
      " 0.84635834 0.84916649 0.83717987 0.84521431 0.85956701 0.76749641\n",
      " 0.75342975 0.78608734 0.80782444 0.84638437 0.85759088 0.87519381\n",
      " 0.8297695  0.82082508 0.82935352 0.82771543 0.82456924 0.81726292\n",
      " 0.77896301 0.8055883  0.8125307  0.80408028 0.80657636 0.79471981\n",
      " 0.80777245 0.80946253 0.8125307  0.80353423 0.8094885  0.82797544\n",
      " 0.84524027 0.83486578 0.83424178 0.8267014  0.81788693 0.81903102\n",
      " 0.82373722 0.82683141 0.79986802 0.79830794 0.80202614 0.82818346\n",
      " 0.83294171 0.82605137 0.82888548 0.82358125 0.76958734 0.7514264\n",
      " 0.72654963 0.70029122 0.67472219 0.6504848 ]\n",
      "4 day out [[0.62769043]]\n",
      "5 day input[0.89963502 0.88169413 0.87378976 0.88101807 0.87391977 0.90262517\n",
      " 0.88874051 0.89162655 0.87319166 0.87659785 0.89789288 0.88952054\n",
      " 0.87139759 0.87420568 0.88692041 0.91513181 0.9945137  0.99750385\n",
      " 0.98855943 0.99703588 1.         0.98658331 0.99019746 0.96427425\n",
      " 0.941029   0.95124758 0.92545425 0.93611478 0.94368118 0.95865795\n",
      " 0.9530937  0.94836141 0.94157505 0.94061308 0.96513224 0.95564177\n",
      " 0.9526256  0.95449774 0.97719682 0.98073302 0.93861093 0.92264616\n",
      " 0.92285412 0.91229757 0.89602087 0.88684233 0.89001454 0.84635834\n",
      " 0.84916649 0.83717987 0.84521431 0.85956701 0.76749641 0.75342975\n",
      " 0.78608734 0.80782444 0.84638437 0.85759088 0.87519381 0.8297695\n",
      " 0.82082508 0.82935352 0.82771543 0.82456924 0.81726292 0.77896301\n",
      " 0.8055883  0.8125307  0.80408028 0.80657636 0.79471981 0.80777245\n",
      " 0.80946253 0.8125307  0.80353423 0.8094885  0.82797544 0.84524027\n",
      " 0.83486578 0.83424178 0.8267014  0.81788693 0.81903102 0.82373722\n",
      " 0.82683141 0.79986802 0.79830794 0.80202614 0.82818346 0.83294171\n",
      " 0.82605137 0.82888548 0.82358125 0.76958734 0.7514264  0.72654963\n",
      " 0.70029122 0.67472219 0.6504848  0.62769043]\n",
      "5 day out [[0.6062709]]\n",
      "6 day input[0.88169413 0.87378976 0.88101807 0.87391977 0.90262517 0.88874051\n",
      " 0.89162655 0.87319166 0.87659785 0.89789288 0.88952054 0.87139759\n",
      " 0.87420568 0.88692041 0.91513181 0.9945137  0.99750385 0.98855943\n",
      " 0.99703588 1.         0.98658331 0.99019746 0.96427425 0.941029\n",
      " 0.95124758 0.92545425 0.93611478 0.94368118 0.95865795 0.9530937\n",
      " 0.94836141 0.94157505 0.94061308 0.96513224 0.95564177 0.9526256\n",
      " 0.95449774 0.97719682 0.98073302 0.93861093 0.92264616 0.92285412\n",
      " 0.91229757 0.89602087 0.88684233 0.89001454 0.84635834 0.84916649\n",
      " 0.83717987 0.84521431 0.85956701 0.76749641 0.75342975 0.78608734\n",
      " 0.80782444 0.84638437 0.85759088 0.87519381 0.8297695  0.82082508\n",
      " 0.82935352 0.82771543 0.82456924 0.81726292 0.77896301 0.8055883\n",
      " 0.8125307  0.80408028 0.80657636 0.79471981 0.80777245 0.80946253\n",
      " 0.8125307  0.80353423 0.8094885  0.82797544 0.84524027 0.83486578\n",
      " 0.83424178 0.8267014  0.81788693 0.81903102 0.82373722 0.82683141\n",
      " 0.79986802 0.79830794 0.80202614 0.82818346 0.83294171 0.82605137\n",
      " 0.82888548 0.82358125 0.76958734 0.7514264  0.72654963 0.70029122\n",
      " 0.67472219 0.6504848  0.62769043 0.60627091]\n",
      "6 day out [[0.58610135]]\n",
      "7 day input[0.87378976 0.88101807 0.87391977 0.90262517 0.88874051 0.89162655\n",
      " 0.87319166 0.87659785 0.89789288 0.88952054 0.87139759 0.87420568\n",
      " 0.88692041 0.91513181 0.9945137  0.99750385 0.98855943 0.99703588\n",
      " 1.         0.98658331 0.99019746 0.96427425 0.941029   0.95124758\n",
      " 0.92545425 0.93611478 0.94368118 0.95865795 0.9530937  0.94836141\n",
      " 0.94157505 0.94061308 0.96513224 0.95564177 0.9526256  0.95449774\n",
      " 0.97719682 0.98073302 0.93861093 0.92264616 0.92285412 0.91229757\n",
      " 0.89602087 0.88684233 0.89001454 0.84635834 0.84916649 0.83717987\n",
      " 0.84521431 0.85956701 0.76749641 0.75342975 0.78608734 0.80782444\n",
      " 0.84638437 0.85759088 0.87519381 0.8297695  0.82082508 0.82935352\n",
      " 0.82771543 0.82456924 0.81726292 0.77896301 0.8055883  0.8125307\n",
      " 0.80408028 0.80657636 0.79471981 0.80777245 0.80946253 0.8125307\n",
      " 0.80353423 0.8094885  0.82797544 0.84524027 0.83486578 0.83424178\n",
      " 0.8267014  0.81788693 0.81903102 0.82373722 0.82683141 0.79986802\n",
      " 0.79830794 0.80202614 0.82818346 0.83294171 0.82605137 0.82888548\n",
      " 0.82358125 0.76958734 0.7514264  0.72654963 0.70029122 0.67472219\n",
      " 0.6504848  0.62769043 0.60627091 0.58610135]\n",
      "7 day out [[0.5670474]]\n",
      "8 day input[0.88101807 0.87391977 0.90262517 0.88874051 0.89162655 0.87319166\n",
      " 0.87659785 0.89789288 0.88952054 0.87139759 0.87420568 0.88692041\n",
      " 0.91513181 0.9945137  0.99750385 0.98855943 0.99703588 1.\n",
      " 0.98658331 0.99019746 0.96427425 0.941029   0.95124758 0.92545425\n",
      " 0.93611478 0.94368118 0.95865795 0.9530937  0.94836141 0.94157505\n",
      " 0.94061308 0.96513224 0.95564177 0.9526256  0.95449774 0.97719682\n",
      " 0.98073302 0.93861093 0.92264616 0.92285412 0.91229757 0.89602087\n",
      " 0.88684233 0.89001454 0.84635834 0.84916649 0.83717987 0.84521431\n",
      " 0.85956701 0.76749641 0.75342975 0.78608734 0.80782444 0.84638437\n",
      " 0.85759088 0.87519381 0.8297695  0.82082508 0.82935352 0.82771543\n",
      " 0.82456924 0.81726292 0.77896301 0.8055883  0.8125307  0.80408028\n",
      " 0.80657636 0.79471981 0.80777245 0.80946253 0.8125307  0.80353423\n",
      " 0.8094885  0.82797544 0.84524027 0.83486578 0.83424178 0.8267014\n",
      " 0.81788693 0.81903102 0.82373722 0.82683141 0.79986802 0.79830794\n",
      " 0.80202614 0.82818346 0.83294171 0.82605137 0.82888548 0.82358125\n",
      " 0.76958734 0.7514264  0.72654963 0.70029122 0.67472219 0.6504848\n",
      " 0.62769043 0.60627091 0.58610135 0.56704742]\n",
      "8 day out [[0.54898363]]\n",
      "9 day input[0.87391977 0.90262517 0.88874051 0.89162655 0.87319166 0.87659785\n",
      " 0.89789288 0.88952054 0.87139759 0.87420568 0.88692041 0.91513181\n",
      " 0.9945137  0.99750385 0.98855943 0.99703588 1.         0.98658331\n",
      " 0.99019746 0.96427425 0.941029   0.95124758 0.92545425 0.93611478\n",
      " 0.94368118 0.95865795 0.9530937  0.94836141 0.94157505 0.94061308\n",
      " 0.96513224 0.95564177 0.9526256  0.95449774 0.97719682 0.98073302\n",
      " 0.93861093 0.92264616 0.92285412 0.91229757 0.89602087 0.88684233\n",
      " 0.89001454 0.84635834 0.84916649 0.83717987 0.84521431 0.85956701\n",
      " 0.76749641 0.75342975 0.78608734 0.80782444 0.84638437 0.85759088\n",
      " 0.87519381 0.8297695  0.82082508 0.82935352 0.82771543 0.82456924\n",
      " 0.81726292 0.77896301 0.8055883  0.8125307  0.80408028 0.80657636\n",
      " 0.79471981 0.80777245 0.80946253 0.8125307  0.80353423 0.8094885\n",
      " 0.82797544 0.84524027 0.83486578 0.83424178 0.8267014  0.81788693\n",
      " 0.81903102 0.82373722 0.82683141 0.79986802 0.79830794 0.80202614\n",
      " 0.82818346 0.83294171 0.82605137 0.82888548 0.82358125 0.76958734\n",
      " 0.7514264  0.72654963 0.70029122 0.67472219 0.6504848  0.62769043\n",
      " 0.60627091 0.58610135 0.56704742 0.54898363]\n",
      "9 day out [[0.5318055]]\n",
      "10 day input[0.90262517 0.88874051 0.89162655 0.87319166 0.87659785 0.89789288\n",
      " 0.88952054 0.87139759 0.87420568 0.88692041 0.91513181 0.9945137\n",
      " 0.99750385 0.98855943 0.99703588 1.         0.98658331 0.99019746\n",
      " 0.96427425 0.941029   0.95124758 0.92545425 0.93611478 0.94368118\n",
      " 0.95865795 0.9530937  0.94836141 0.94157505 0.94061308 0.96513224\n",
      " 0.95564177 0.9526256  0.95449774 0.97719682 0.98073302 0.93861093\n",
      " 0.92264616 0.92285412 0.91229757 0.89602087 0.88684233 0.89001454\n",
      " 0.84635834 0.84916649 0.83717987 0.84521431 0.85956701 0.76749641\n",
      " 0.75342975 0.78608734 0.80782444 0.84638437 0.85759088 0.87519381\n",
      " 0.8297695  0.82082508 0.82935352 0.82771543 0.82456924 0.81726292\n",
      " 0.77896301 0.8055883  0.8125307  0.80408028 0.80657636 0.79471981\n",
      " 0.80777245 0.80946253 0.8125307  0.80353423 0.8094885  0.82797544\n",
      " 0.84524027 0.83486578 0.83424178 0.8267014  0.81788693 0.81903102\n",
      " 0.82373722 0.82683141 0.79986802 0.79830794 0.80202614 0.82818346\n",
      " 0.83294171 0.82605137 0.82888548 0.82358125 0.76958734 0.7514264\n",
      " 0.72654963 0.70029122 0.67472219 0.6504848  0.62769043 0.60627091\n",
      " 0.58610135 0.56704742 0.54898363 0.53180552]\n"
     ]
    },
    {
     "name": "stdout",
     "output_type": "stream",
     "text": [
      "10 day out [[0.5154338]]\n",
      "11 day input[0.88874051 0.89162655 0.87319166 0.87659785 0.89789288 0.88952054\n",
      " 0.87139759 0.87420568 0.88692041 0.91513181 0.9945137  0.99750385\n",
      " 0.98855943 0.99703588 1.         0.98658331 0.99019746 0.96427425\n",
      " 0.941029   0.95124758 0.92545425 0.93611478 0.94368118 0.95865795\n",
      " 0.9530937  0.94836141 0.94157505 0.94061308 0.96513224 0.95564177\n",
      " 0.9526256  0.95449774 0.97719682 0.98073302 0.93861093 0.92264616\n",
      " 0.92285412 0.91229757 0.89602087 0.88684233 0.89001454 0.84635834\n",
      " 0.84916649 0.83717987 0.84521431 0.85956701 0.76749641 0.75342975\n",
      " 0.78608734 0.80782444 0.84638437 0.85759088 0.87519381 0.8297695\n",
      " 0.82082508 0.82935352 0.82771543 0.82456924 0.81726292 0.77896301\n",
      " 0.8055883  0.8125307  0.80408028 0.80657636 0.79471981 0.80777245\n",
      " 0.80946253 0.8125307  0.80353423 0.8094885  0.82797544 0.84524027\n",
      " 0.83486578 0.83424178 0.8267014  0.81788693 0.81903102 0.82373722\n",
      " 0.82683141 0.79986802 0.79830794 0.80202614 0.82818346 0.83294171\n",
      " 0.82605137 0.82888548 0.82358125 0.76958734 0.7514264  0.72654963\n",
      " 0.70029122 0.67472219 0.6504848  0.62769043 0.60627091 0.58610135\n",
      " 0.56704742 0.54898363 0.53180552 0.51543379]\n",
      "11 day out [[0.49981487]]\n",
      "12 day input[0.89162655 0.87319166 0.87659785 0.89789288 0.88952054 0.87139759\n",
      " 0.87420568 0.88692041 0.91513181 0.9945137  0.99750385 0.98855943\n",
      " 0.99703588 1.         0.98658331 0.99019746 0.96427425 0.941029\n",
      " 0.95124758 0.92545425 0.93611478 0.94368118 0.95865795 0.9530937\n",
      " 0.94836141 0.94157505 0.94061308 0.96513224 0.95564177 0.9526256\n",
      " 0.95449774 0.97719682 0.98073302 0.93861093 0.92264616 0.92285412\n",
      " 0.91229757 0.89602087 0.88684233 0.89001454 0.84635834 0.84916649\n",
      " 0.83717987 0.84521431 0.85956701 0.76749641 0.75342975 0.78608734\n",
      " 0.80782444 0.84638437 0.85759088 0.87519381 0.8297695  0.82082508\n",
      " 0.82935352 0.82771543 0.82456924 0.81726292 0.77896301 0.8055883\n",
      " 0.8125307  0.80408028 0.80657636 0.79471981 0.80777245 0.80946253\n",
      " 0.8125307  0.80353423 0.8094885  0.82797544 0.84524027 0.83486578\n",
      " 0.83424178 0.8267014  0.81788693 0.81903102 0.82373722 0.82683141\n",
      " 0.79986802 0.79830794 0.80202614 0.82818346 0.83294171 0.82605137\n",
      " 0.82888548 0.82358125 0.76958734 0.7514264  0.72654963 0.70029122\n",
      " 0.67472219 0.6504848  0.62769043 0.60627091 0.58610135 0.56704742\n",
      " 0.54898363 0.53180552 0.51543379 0.49981487]\n",
      "12 day out [[0.48491886]]\n",
      "13 day input[0.87319166 0.87659785 0.89789288 0.88952054 0.87139759 0.87420568\n",
      " 0.88692041 0.91513181 0.9945137  0.99750385 0.98855943 0.99703588\n",
      " 1.         0.98658331 0.99019746 0.96427425 0.941029   0.95124758\n",
      " 0.92545425 0.93611478 0.94368118 0.95865795 0.9530937  0.94836141\n",
      " 0.94157505 0.94061308 0.96513224 0.95564177 0.9526256  0.95449774\n",
      " 0.97719682 0.98073302 0.93861093 0.92264616 0.92285412 0.91229757\n",
      " 0.89602087 0.88684233 0.89001454 0.84635834 0.84916649 0.83717987\n",
      " 0.84521431 0.85956701 0.76749641 0.75342975 0.78608734 0.80782444\n",
      " 0.84638437 0.85759088 0.87519381 0.8297695  0.82082508 0.82935352\n",
      " 0.82771543 0.82456924 0.81726292 0.77896301 0.8055883  0.8125307\n",
      " 0.80408028 0.80657636 0.79471981 0.80777245 0.80946253 0.8125307\n",
      " 0.80353423 0.8094885  0.82797544 0.84524027 0.83486578 0.83424178\n",
      " 0.8267014  0.81788693 0.81903102 0.82373722 0.82683141 0.79986802\n",
      " 0.79830794 0.80202614 0.82818346 0.83294171 0.82605137 0.82888548\n",
      " 0.82358125 0.76958734 0.7514264  0.72654963 0.70029122 0.67472219\n",
      " 0.6504848  0.62769043 0.60627091 0.58610135 0.56704742 0.54898363\n",
      " 0.53180552 0.51543379 0.49981487 0.48491886]\n",
      "13 day out [[0.47073483]]\n",
      "14 day input[0.87659785 0.89789288 0.88952054 0.87139759 0.87420568 0.88692041\n",
      " 0.91513181 0.9945137  0.99750385 0.98855943 0.99703588 1.\n",
      " 0.98658331 0.99019746 0.96427425 0.941029   0.95124758 0.92545425\n",
      " 0.93611478 0.94368118 0.95865795 0.9530937  0.94836141 0.94157505\n",
      " 0.94061308 0.96513224 0.95564177 0.9526256  0.95449774 0.97719682\n",
      " 0.98073302 0.93861093 0.92264616 0.92285412 0.91229757 0.89602087\n",
      " 0.88684233 0.89001454 0.84635834 0.84916649 0.83717987 0.84521431\n",
      " 0.85956701 0.76749641 0.75342975 0.78608734 0.80782444 0.84638437\n",
      " 0.85759088 0.87519381 0.8297695  0.82082508 0.82935352 0.82771543\n",
      " 0.82456924 0.81726292 0.77896301 0.8055883  0.8125307  0.80408028\n",
      " 0.80657636 0.79471981 0.80777245 0.80946253 0.8125307  0.80353423\n",
      " 0.8094885  0.82797544 0.84524027 0.83486578 0.83424178 0.8267014\n",
      " 0.81788693 0.81903102 0.82373722 0.82683141 0.79986802 0.79830794\n",
      " 0.80202614 0.82818346 0.83294171 0.82605137 0.82888548 0.82358125\n",
      " 0.76958734 0.7514264  0.72654963 0.70029122 0.67472219 0.6504848\n",
      " 0.62769043 0.60627091 0.58610135 0.56704742 0.54898363 0.53180552\n",
      " 0.51543379 0.49981487 0.48491886 0.47073483]\n",
      "14 day out [[0.45726633]]\n",
      "15 day input[0.89789288 0.88952054 0.87139759 0.87420568 0.88692041 0.91513181\n",
      " 0.9945137  0.99750385 0.98855943 0.99703588 1.         0.98658331\n",
      " 0.99019746 0.96427425 0.941029   0.95124758 0.92545425 0.93611478\n",
      " 0.94368118 0.95865795 0.9530937  0.94836141 0.94157505 0.94061308\n",
      " 0.96513224 0.95564177 0.9526256  0.95449774 0.97719682 0.98073302\n",
      " 0.93861093 0.92264616 0.92285412 0.91229757 0.89602087 0.88684233\n",
      " 0.89001454 0.84635834 0.84916649 0.83717987 0.84521431 0.85956701\n",
      " 0.76749641 0.75342975 0.78608734 0.80782444 0.84638437 0.85759088\n",
      " 0.87519381 0.8297695  0.82082508 0.82935352 0.82771543 0.82456924\n",
      " 0.81726292 0.77896301 0.8055883  0.8125307  0.80408028 0.80657636\n",
      " 0.79471981 0.80777245 0.80946253 0.8125307  0.80353423 0.8094885\n",
      " 0.82797544 0.84524027 0.83486578 0.83424178 0.8267014  0.81788693\n",
      " 0.81903102 0.82373722 0.82683141 0.79986802 0.79830794 0.80202614\n",
      " 0.82818346 0.83294171 0.82605137 0.82888548 0.82358125 0.76958734\n",
      " 0.7514264  0.72654963 0.70029122 0.67472219 0.6504848  0.62769043\n",
      " 0.60627091 0.58610135 0.56704742 0.54898363 0.53180552 0.51543379\n",
      " 0.49981487 0.48491886 0.47073483 0.45726633]\n",
      "15 day out [[0.4445255]]\n",
      "16 day input[0.88952054 0.87139759 0.87420568 0.88692041 0.91513181 0.9945137\n",
      " 0.99750385 0.98855943 0.99703588 1.         0.98658331 0.99019746\n",
      " 0.96427425 0.941029   0.95124758 0.92545425 0.93611478 0.94368118\n",
      " 0.95865795 0.9530937  0.94836141 0.94157505 0.94061308 0.96513224\n",
      " 0.95564177 0.9526256  0.95449774 0.97719682 0.98073302 0.93861093\n",
      " 0.92264616 0.92285412 0.91229757 0.89602087 0.88684233 0.89001454\n",
      " 0.84635834 0.84916649 0.83717987 0.84521431 0.85956701 0.76749641\n",
      " 0.75342975 0.78608734 0.80782444 0.84638437 0.85759088 0.87519381\n",
      " 0.8297695  0.82082508 0.82935352 0.82771543 0.82456924 0.81726292\n",
      " 0.77896301 0.8055883  0.8125307  0.80408028 0.80657636 0.79471981\n",
      " 0.80777245 0.80946253 0.8125307  0.80353423 0.8094885  0.82797544\n",
      " 0.84524027 0.83486578 0.83424178 0.8267014  0.81788693 0.81903102\n",
      " 0.82373722 0.82683141 0.79986802 0.79830794 0.80202614 0.82818346\n",
      " 0.83294171 0.82605137 0.82888548 0.82358125 0.76958734 0.7514264\n",
      " 0.72654963 0.70029122 0.67472219 0.6504848  0.62769043 0.60627091\n",
      " 0.58610135 0.56704742 0.54898363 0.53180552 0.51543379 0.49981487\n",
      " 0.48491886 0.47073483 0.45726633 0.44452551]\n",
      "16 day out [[0.4325293]]\n",
      "17 day input[0.87139759 0.87420568 0.88692041 0.91513181 0.9945137  0.99750385\n",
      " 0.98855943 0.99703588 1.         0.98658331 0.99019746 0.96427425\n",
      " 0.941029   0.95124758 0.92545425 0.93611478 0.94368118 0.95865795\n",
      " 0.9530937  0.94836141 0.94157505 0.94061308 0.96513224 0.95564177\n",
      " 0.9526256  0.95449774 0.97719682 0.98073302 0.93861093 0.92264616\n",
      " 0.92285412 0.91229757 0.89602087 0.88684233 0.89001454 0.84635834\n",
      " 0.84916649 0.83717987 0.84521431 0.85956701 0.76749641 0.75342975\n",
      " 0.78608734 0.80782444 0.84638437 0.85759088 0.87519381 0.8297695\n",
      " 0.82082508 0.82935352 0.82771543 0.82456924 0.81726292 0.77896301\n",
      " 0.8055883  0.8125307  0.80408028 0.80657636 0.79471981 0.80777245\n",
      " 0.80946253 0.8125307  0.80353423 0.8094885  0.82797544 0.84524027\n",
      " 0.83486578 0.83424178 0.8267014  0.81788693 0.81903102 0.82373722\n",
      " 0.82683141 0.79986802 0.79830794 0.80202614 0.82818346 0.83294171\n",
      " 0.82605137 0.82888548 0.82358125 0.76958734 0.7514264  0.72654963\n",
      " 0.70029122 0.67472219 0.6504848  0.62769043 0.60627091 0.58610135\n",
      " 0.56704742 0.54898363 0.53180552 0.51543379 0.49981487 0.48491886\n",
      " 0.47073483 0.45726633 0.44452551 0.4325293 ]\n",
      "17 day out [[0.4212947]]\n",
      "18 day input[0.87420568 0.88692041 0.91513181 0.9945137  0.99750385 0.98855943\n",
      " 0.99703588 1.         0.98658331 0.99019746 0.96427425 0.941029\n",
      " 0.95124758 0.92545425 0.93611478 0.94368118 0.95865795 0.9530937\n",
      " 0.94836141 0.94157505 0.94061308 0.96513224 0.95564177 0.9526256\n",
      " 0.95449774 0.97719682 0.98073302 0.93861093 0.92264616 0.92285412\n",
      " 0.91229757 0.89602087 0.88684233 0.89001454 0.84635834 0.84916649\n",
      " 0.83717987 0.84521431 0.85956701 0.76749641 0.75342975 0.78608734\n",
      " 0.80782444 0.84638437 0.85759088 0.87519381 0.8297695  0.82082508\n",
      " 0.82935352 0.82771543 0.82456924 0.81726292 0.77896301 0.8055883\n",
      " 0.8125307  0.80408028 0.80657636 0.79471981 0.80777245 0.80946253\n",
      " 0.8125307  0.80353423 0.8094885  0.82797544 0.84524027 0.83486578\n",
      " 0.83424178 0.8267014  0.81788693 0.81903102 0.82373722 0.82683141\n",
      " 0.79986802 0.79830794 0.80202614 0.82818346 0.83294171 0.82605137\n",
      " 0.82888548 0.82358125 0.76958734 0.7514264  0.72654963 0.70029122\n",
      " 0.67472219 0.6504848  0.62769043 0.60627091 0.58610135 0.56704742\n",
      " 0.54898363 0.53180552 0.51543379 0.49981487 0.48491886 0.47073483\n",
      " 0.45726633 0.44452551 0.4325293  0.42129469]\n",
      "18 day out [[0.41083592]]\n",
      "19 day input[0.88692041 0.91513181 0.9945137  0.99750385 0.98855943 0.99703588\n",
      " 1.         0.98658331 0.99019746 0.96427425 0.941029   0.95124758\n",
      " 0.92545425 0.93611478 0.94368118 0.95865795 0.9530937  0.94836141\n",
      " 0.94157505 0.94061308 0.96513224 0.95564177 0.9526256  0.95449774\n",
      " 0.97719682 0.98073302 0.93861093 0.92264616 0.92285412 0.91229757\n",
      " 0.89602087 0.88684233 0.89001454 0.84635834 0.84916649 0.83717987\n",
      " 0.84521431 0.85956701 0.76749641 0.75342975 0.78608734 0.80782444\n",
      " 0.84638437 0.85759088 0.87519381 0.8297695  0.82082508 0.82935352\n",
      " 0.82771543 0.82456924 0.81726292 0.77896301 0.8055883  0.8125307\n",
      " 0.80408028 0.80657636 0.79471981 0.80777245 0.80946253 0.8125307\n",
      " 0.80353423 0.8094885  0.82797544 0.84524027 0.83486578 0.83424178\n",
      " 0.8267014  0.81788693 0.81903102 0.82373722 0.82683141 0.79986802\n",
      " 0.79830794 0.80202614 0.82818346 0.83294171 0.82605137 0.82888548\n",
      " 0.82358125 0.76958734 0.7514264  0.72654963 0.70029122 0.67472219\n",
      " 0.6504848  0.62769043 0.60627091 0.58610135 0.56704742 0.54898363\n",
      " 0.53180552 0.51543379 0.49981487 0.48491886 0.47073483 0.45726633\n",
      " 0.44452551 0.4325293  0.42129469 0.41083592]\n",
      "19 day out [[0.40116194]]\n",
      "20 day input[0.91513181 0.9945137  0.99750385 0.98855943 0.99703588 1.\n",
      " 0.98658331 0.99019746 0.96427425 0.941029   0.95124758 0.92545425\n",
      " 0.93611478 0.94368118 0.95865795 0.9530937  0.94836141 0.94157505\n",
      " 0.94061308 0.96513224 0.95564177 0.9526256  0.95449774 0.97719682\n",
      " 0.98073302 0.93861093 0.92264616 0.92285412 0.91229757 0.89602087\n",
      " 0.88684233 0.89001454 0.84635834 0.84916649 0.83717987 0.84521431\n",
      " 0.85956701 0.76749641 0.75342975 0.78608734 0.80782444 0.84638437\n",
      " 0.85759088 0.87519381 0.8297695  0.82082508 0.82935352 0.82771543\n",
      " 0.82456924 0.81726292 0.77896301 0.8055883  0.8125307  0.80408028\n",
      " 0.80657636 0.79471981 0.80777245 0.80946253 0.8125307  0.80353423\n",
      " 0.8094885  0.82797544 0.84524027 0.83486578 0.83424178 0.8267014\n",
      " 0.81788693 0.81903102 0.82373722 0.82683141 0.79986802 0.79830794\n",
      " 0.80202614 0.82818346 0.83294171 0.82605137 0.82888548 0.82358125\n",
      " 0.76958734 0.7514264  0.72654963 0.70029122 0.67472219 0.6504848\n",
      " 0.62769043 0.60627091 0.58610135 0.56704742 0.54898363 0.53180552\n",
      " 0.51543379 0.49981487 0.48491886 0.47073483 0.45726633 0.44452551\n",
      " 0.4325293  0.42129469 0.41083592 0.40116194]\n",
      "20 day out [[0.39227498]]\n",
      "21 day input[0.9945137  0.99750385 0.98855943 0.99703588 1.         0.98658331\n",
      " 0.99019746 0.96427425 0.941029   0.95124758 0.92545425 0.93611478\n",
      " 0.94368118 0.95865795 0.9530937  0.94836141 0.94157505 0.94061308\n",
      " 0.96513224 0.95564177 0.9526256  0.95449774 0.97719682 0.98073302\n",
      " 0.93861093 0.92264616 0.92285412 0.91229757 0.89602087 0.88684233\n",
      " 0.89001454 0.84635834 0.84916649 0.83717987 0.84521431 0.85956701\n",
      " 0.76749641 0.75342975 0.78608734 0.80782444 0.84638437 0.85759088\n",
      " 0.87519381 0.8297695  0.82082508 0.82935352 0.82771543 0.82456924\n",
      " 0.81726292 0.77896301 0.8055883  0.8125307  0.80408028 0.80657636\n",
      " 0.79471981 0.80777245 0.80946253 0.8125307  0.80353423 0.8094885\n",
      " 0.82797544 0.84524027 0.83486578 0.83424178 0.8267014  0.81788693\n",
      " 0.81903102 0.82373722 0.82683141 0.79986802 0.79830794 0.80202614\n",
      " 0.82818346 0.83294171 0.82605137 0.82888548 0.82358125 0.76958734\n",
      " 0.7514264  0.72654963 0.70029122 0.67472219 0.6504848  0.62769043\n",
      " 0.60627091 0.58610135 0.56704742 0.54898363 0.53180552 0.51543379\n",
      " 0.49981487 0.48491886 0.47073483 0.45726633 0.44452551 0.4325293\n",
      " 0.42129469 0.41083592 0.40116194 0.39227498]\n"
     ]
    },
    {
     "name": "stdout",
     "output_type": "stream",
     "text": [
      "21 day out [[0.38416973]]\n",
      "22 day input[0.99750385 0.98855943 0.99703588 1.         0.98658331 0.99019746\n",
      " 0.96427425 0.941029   0.95124758 0.92545425 0.93611478 0.94368118\n",
      " 0.95865795 0.9530937  0.94836141 0.94157505 0.94061308 0.96513224\n",
      " 0.95564177 0.9526256  0.95449774 0.97719682 0.98073302 0.93861093\n",
      " 0.92264616 0.92285412 0.91229757 0.89602087 0.88684233 0.89001454\n",
      " 0.84635834 0.84916649 0.83717987 0.84521431 0.85956701 0.76749641\n",
      " 0.75342975 0.78608734 0.80782444 0.84638437 0.85759088 0.87519381\n",
      " 0.8297695  0.82082508 0.82935352 0.82771543 0.82456924 0.81726292\n",
      " 0.77896301 0.8055883  0.8125307  0.80408028 0.80657636 0.79471981\n",
      " 0.80777245 0.80946253 0.8125307  0.80353423 0.8094885  0.82797544\n",
      " 0.84524027 0.83486578 0.83424178 0.8267014  0.81788693 0.81903102\n",
      " 0.82373722 0.82683141 0.79986802 0.79830794 0.80202614 0.82818346\n",
      " 0.83294171 0.82605137 0.82888548 0.82358125 0.76958734 0.7514264\n",
      " 0.72654963 0.70029122 0.67472219 0.6504848  0.62769043 0.60627091\n",
      " 0.58610135 0.56704742 0.54898363 0.53180552 0.51543379 0.49981487\n",
      " 0.48491886 0.47073483 0.45726633 0.44452551 0.4325293  0.42129469\n",
      " 0.41083592 0.40116194 0.39227498 0.38416973]\n",
      "22 day out [[0.37683287]]\n",
      "23 day input[0.98855943 0.99703588 1.         0.98658331 0.99019746 0.96427425\n",
      " 0.941029   0.95124758 0.92545425 0.93611478 0.94368118 0.95865795\n",
      " 0.9530937  0.94836141 0.94157505 0.94061308 0.96513224 0.95564177\n",
      " 0.9526256  0.95449774 0.97719682 0.98073302 0.93861093 0.92264616\n",
      " 0.92285412 0.91229757 0.89602087 0.88684233 0.89001454 0.84635834\n",
      " 0.84916649 0.83717987 0.84521431 0.85956701 0.76749641 0.75342975\n",
      " 0.78608734 0.80782444 0.84638437 0.85759088 0.87519381 0.8297695\n",
      " 0.82082508 0.82935352 0.82771543 0.82456924 0.81726292 0.77896301\n",
      " 0.8055883  0.8125307  0.80408028 0.80657636 0.79471981 0.80777245\n",
      " 0.80946253 0.8125307  0.80353423 0.8094885  0.82797544 0.84524027\n",
      " 0.83486578 0.83424178 0.8267014  0.81788693 0.81903102 0.82373722\n",
      " 0.82683141 0.79986802 0.79830794 0.80202614 0.82818346 0.83294171\n",
      " 0.82605137 0.82888548 0.82358125 0.76958734 0.7514264  0.72654963\n",
      " 0.70029122 0.67472219 0.6504848  0.62769043 0.60627091 0.58610135\n",
      " 0.56704742 0.54898363 0.53180552 0.51543379 0.49981487 0.48491886\n",
      " 0.47073483 0.45726633 0.44452551 0.4325293  0.42129469 0.41083592\n",
      " 0.40116194 0.39227498 0.38416973 0.37683287]\n",
      "23 day out [[0.37024385]]\n",
      "24 day input[0.99703588 1.         0.98658331 0.99019746 0.96427425 0.941029\n",
      " 0.95124758 0.92545425 0.93611478 0.94368118 0.95865795 0.9530937\n",
      " 0.94836141 0.94157505 0.94061308 0.96513224 0.95564177 0.9526256\n",
      " 0.95449774 0.97719682 0.98073302 0.93861093 0.92264616 0.92285412\n",
      " 0.91229757 0.89602087 0.88684233 0.89001454 0.84635834 0.84916649\n",
      " 0.83717987 0.84521431 0.85956701 0.76749641 0.75342975 0.78608734\n",
      " 0.80782444 0.84638437 0.85759088 0.87519381 0.8297695  0.82082508\n",
      " 0.82935352 0.82771543 0.82456924 0.81726292 0.77896301 0.8055883\n",
      " 0.8125307  0.80408028 0.80657636 0.79471981 0.80777245 0.80946253\n",
      " 0.8125307  0.80353423 0.8094885  0.82797544 0.84524027 0.83486578\n",
      " 0.83424178 0.8267014  0.81788693 0.81903102 0.82373722 0.82683141\n",
      " 0.79986802 0.79830794 0.80202614 0.82818346 0.83294171 0.82605137\n",
      " 0.82888548 0.82358125 0.76958734 0.7514264  0.72654963 0.70029122\n",
      " 0.67472219 0.6504848  0.62769043 0.60627091 0.58610135 0.56704742\n",
      " 0.54898363 0.53180552 0.51543379 0.49981487 0.48491886 0.47073483\n",
      " 0.45726633 0.44452551 0.4325293  0.42129469 0.41083592 0.40116194\n",
      " 0.39227498 0.38416973 0.37683287 0.37024385]\n",
      "24 day out [[0.36437482]]\n",
      "25 day input[1.         0.98658331 0.99019746 0.96427425 0.941029   0.95124758\n",
      " 0.92545425 0.93611478 0.94368118 0.95865795 0.9530937  0.94836141\n",
      " 0.94157505 0.94061308 0.96513224 0.95564177 0.9526256  0.95449774\n",
      " 0.97719682 0.98073302 0.93861093 0.92264616 0.92285412 0.91229757\n",
      " 0.89602087 0.88684233 0.89001454 0.84635834 0.84916649 0.83717987\n",
      " 0.84521431 0.85956701 0.76749641 0.75342975 0.78608734 0.80782444\n",
      " 0.84638437 0.85759088 0.87519381 0.8297695  0.82082508 0.82935352\n",
      " 0.82771543 0.82456924 0.81726292 0.77896301 0.8055883  0.8125307\n",
      " 0.80408028 0.80657636 0.79471981 0.80777245 0.80946253 0.8125307\n",
      " 0.80353423 0.8094885  0.82797544 0.84524027 0.83486578 0.83424178\n",
      " 0.8267014  0.81788693 0.81903102 0.82373722 0.82683141 0.79986802\n",
      " 0.79830794 0.80202614 0.82818346 0.83294171 0.82605137 0.82888548\n",
      " 0.82358125 0.76958734 0.7514264  0.72654963 0.70029122 0.67472219\n",
      " 0.6504848  0.62769043 0.60627091 0.58610135 0.56704742 0.54898363\n",
      " 0.53180552 0.51543379 0.49981487 0.48491886 0.47073483 0.45726633\n",
      " 0.44452551 0.4325293  0.42129469 0.41083592 0.40116194 0.39227498\n",
      " 0.38416973 0.37683287 0.37024385 0.36437482]\n",
      "25 day out [[0.35919252]]\n",
      "26 day input[0.98658331 0.99019746 0.96427425 0.941029   0.95124758 0.92545425\n",
      " 0.93611478 0.94368118 0.95865795 0.9530937  0.94836141 0.94157505\n",
      " 0.94061308 0.96513224 0.95564177 0.9526256  0.95449774 0.97719682\n",
      " 0.98073302 0.93861093 0.92264616 0.92285412 0.91229757 0.89602087\n",
      " 0.88684233 0.89001454 0.84635834 0.84916649 0.83717987 0.84521431\n",
      " 0.85956701 0.76749641 0.75342975 0.78608734 0.80782444 0.84638437\n",
      " 0.85759088 0.87519381 0.8297695  0.82082508 0.82935352 0.82771543\n",
      " 0.82456924 0.81726292 0.77896301 0.8055883  0.8125307  0.80408028\n",
      " 0.80657636 0.79471981 0.80777245 0.80946253 0.8125307  0.80353423\n",
      " 0.8094885  0.82797544 0.84524027 0.83486578 0.83424178 0.8267014\n",
      " 0.81788693 0.81903102 0.82373722 0.82683141 0.79986802 0.79830794\n",
      " 0.80202614 0.82818346 0.83294171 0.82605137 0.82888548 0.82358125\n",
      " 0.76958734 0.7514264  0.72654963 0.70029122 0.67472219 0.6504848\n",
      " 0.62769043 0.60627091 0.58610135 0.56704742 0.54898363 0.53180552\n",
      " 0.51543379 0.49981487 0.48491886 0.47073483 0.45726633 0.44452551\n",
      " 0.4325293  0.42129469 0.41083592 0.40116194 0.39227498 0.38416973\n",
      " 0.37683287 0.37024385 0.36437482 0.35919252]\n",
      "26 day out [[0.3546586]]\n",
      "27 day input[0.99019746 0.96427425 0.941029   0.95124758 0.92545425 0.93611478\n",
      " 0.94368118 0.95865795 0.9530937  0.94836141 0.94157505 0.94061308\n",
      " 0.96513224 0.95564177 0.9526256  0.95449774 0.97719682 0.98073302\n",
      " 0.93861093 0.92264616 0.92285412 0.91229757 0.89602087 0.88684233\n",
      " 0.89001454 0.84635834 0.84916649 0.83717987 0.84521431 0.85956701\n",
      " 0.76749641 0.75342975 0.78608734 0.80782444 0.84638437 0.85759088\n",
      " 0.87519381 0.8297695  0.82082508 0.82935352 0.82771543 0.82456924\n",
      " 0.81726292 0.77896301 0.8055883  0.8125307  0.80408028 0.80657636\n",
      " 0.79471981 0.80777245 0.80946253 0.8125307  0.80353423 0.8094885\n",
      " 0.82797544 0.84524027 0.83486578 0.83424178 0.8267014  0.81788693\n",
      " 0.81903102 0.82373722 0.82683141 0.79986802 0.79830794 0.80202614\n",
      " 0.82818346 0.83294171 0.82605137 0.82888548 0.82358125 0.76958734\n",
      " 0.7514264  0.72654963 0.70029122 0.67472219 0.6504848  0.62769043\n",
      " 0.60627091 0.58610135 0.56704742 0.54898363 0.53180552 0.51543379\n",
      " 0.49981487 0.48491886 0.47073483 0.45726633 0.44452551 0.4325293\n",
      " 0.42129469 0.41083592 0.40116194 0.39227498 0.38416973 0.37683287\n",
      " 0.37024385 0.36437482 0.35919252 0.3546586 ]\n",
      "27 day out [[0.35073125]]\n",
      "28 day input[0.96427425 0.941029   0.95124758 0.92545425 0.93611478 0.94368118\n",
      " 0.95865795 0.9530937  0.94836141 0.94157505 0.94061308 0.96513224\n",
      " 0.95564177 0.9526256  0.95449774 0.97719682 0.98073302 0.93861093\n",
      " 0.92264616 0.92285412 0.91229757 0.89602087 0.88684233 0.89001454\n",
      " 0.84635834 0.84916649 0.83717987 0.84521431 0.85956701 0.76749641\n",
      " 0.75342975 0.78608734 0.80782444 0.84638437 0.85759088 0.87519381\n",
      " 0.8297695  0.82082508 0.82935352 0.82771543 0.82456924 0.81726292\n",
      " 0.77896301 0.8055883  0.8125307  0.80408028 0.80657636 0.79471981\n",
      " 0.80777245 0.80946253 0.8125307  0.80353423 0.8094885  0.82797544\n",
      " 0.84524027 0.83486578 0.83424178 0.8267014  0.81788693 0.81903102\n",
      " 0.82373722 0.82683141 0.79986802 0.79830794 0.80202614 0.82818346\n",
      " 0.83294171 0.82605137 0.82888548 0.82358125 0.76958734 0.7514264\n",
      " 0.72654963 0.70029122 0.67472219 0.6504848  0.62769043 0.60627091\n",
      " 0.58610135 0.56704742 0.54898363 0.53180552 0.51543379 0.49981487\n",
      " 0.48491886 0.47073483 0.45726633 0.44452551 0.4325293  0.42129469\n",
      " 0.41083592 0.40116194 0.39227498 0.38416973 0.37683287 0.37024385\n",
      " 0.36437482 0.35919252 0.3546586  0.35073125]\n",
      "28 day out [[0.34736592]]\n",
      "29 day input[0.941029   0.95124758 0.92545425 0.93611478 0.94368118 0.95865795\n",
      " 0.9530937  0.94836141 0.94157505 0.94061308 0.96513224 0.95564177\n",
      " 0.9526256  0.95449774 0.97719682 0.98073302 0.93861093 0.92264616\n",
      " 0.92285412 0.91229757 0.89602087 0.88684233 0.89001454 0.84635834\n",
      " 0.84916649 0.83717987 0.84521431 0.85956701 0.76749641 0.75342975\n",
      " 0.78608734 0.80782444 0.84638437 0.85759088 0.87519381 0.8297695\n",
      " 0.82082508 0.82935352 0.82771543 0.82456924 0.81726292 0.77896301\n",
      " 0.8055883  0.8125307  0.80408028 0.80657636 0.79471981 0.80777245\n",
      " 0.80946253 0.8125307  0.80353423 0.8094885  0.82797544 0.84524027\n",
      " 0.83486578 0.83424178 0.8267014  0.81788693 0.81903102 0.82373722\n",
      " 0.82683141 0.79986802 0.79830794 0.80202614 0.82818346 0.83294171\n",
      " 0.82605137 0.82888548 0.82358125 0.76958734 0.7514264  0.72654963\n",
      " 0.70029122 0.67472219 0.6504848  0.62769043 0.60627091 0.58610135\n",
      " 0.56704742 0.54898363 0.53180552 0.51543379 0.49981487 0.48491886\n",
      " 0.47073483 0.45726633 0.44452551 0.4325293  0.42129469 0.41083592\n",
      " 0.40116194 0.39227498 0.38416973 0.37683287 0.37024385 0.36437482\n",
      " 0.35919252 0.3546586  0.35073125 0.34736592]\n",
      "29 day out [[0.34451708]]\n",
      "[[0.7265496253967285], [0.7002912163734436], [0.6747221946716309], [0.6504848003387451], [0.6276904344558716], [0.6062709093093872], [0.5861013531684875], [0.5670474171638489], [0.548983633518219], [0.5318055152893066], [0.5154337882995605], [0.49981486797332764], [0.48491886258125305], [0.4707348346710205], [0.45726633071899414], [0.44452551007270813], [0.4325293004512787], [0.4212946891784668], [0.4108359217643738], [0.40116193890571594], [0.39227497577667236], [0.38416972756385803], [0.37683287262916565], [0.3702438473701477], [0.3643748164176941], [0.35919252038002014], [0.3546586036682129], [0.3507312536239624], [0.3473659157752991], [0.3445170819759369]]\n"
     ]
    }
   ],
   "source": [
    "#logic to find next 30 days\n",
    "from numpy import array\n",
    "\n",
    "lst_output=[]\n",
    "n_steps=100\n",
    "i=0\n",
    "while(i<30):\n",
    "    \n",
    "    if(len(temp_input)>100):\n",
    "        x_input=np.array(temp_input[1:])\n",
    "        print(\"{} day input{}\".format(i,x_input))\n",
    "        x_input=x_input.reshape(1,-1)\n",
    "        x_input= x_input.reshape((1,n_steps,1))\n",
    "        #print(x_input)\n",
    "        yhat = model.predict(x_input, verbose=0)\n",
    "        print(\"{} day out {}\".format(i,yhat))\n",
    "        temp_input.extend(yhat[0].tolist())\n",
    "        temp_input=temp_input[1:]\n",
    "        #print(temp_input)\n",
    "        lst_output.extend(yhat.tolist())\n",
    "        i=i+1\n",
    "    else:\n",
    "        x_input = x_input.reshape((1, n_steps,1))\n",
    "        yhat = model.predict(x_input, verbose=0)\n",
    "        print(yhat[0])\n",
    "        temp_input.extend(yhat[0].tolist())\n",
    "        print(len(temp_input))\n",
    "        lst_output.extend(yhat.tolist())\n",
    "        i=i+1\n",
    "        \n",
    "print(lst_output)"
   ]
  },
  {
   "cell_type": "code",
   "execution_count": 60,
   "id": "19ddead8",
   "metadata": {},
   "outputs": [],
   "source": [
    "day_new=np.arange(1,101)\n",
    "day_pred=np.arange(101,131)"
   ]
  },
  {
   "cell_type": "code",
   "execution_count": 61,
   "id": "0844c6b5",
   "metadata": {},
   "outputs": [],
   "source": [
    "import matplotlib.pyplot as plt"
   ]
  },
  {
   "cell_type": "code",
   "execution_count": 62,
   "id": "a28dd676",
   "metadata": {},
   "outputs": [
    {
     "data": {
      "text/plain": [
       "1478"
      ]
     },
     "execution_count": 62,
     "metadata": {},
     "output_type": "execute_result"
    }
   ],
   "source": [
    "len(df1)"
   ]
  },
  {
   "cell_type": "code",
   "execution_count": 63,
   "id": "7e289fe9",
   "metadata": {},
   "outputs": [],
   "source": [
    "df3=df1.tolist()\n",
    "df3.extend(lst_output)"
   ]
  },
  {
   "cell_type": "code",
   "execution_count": 64,
   "id": "998a1699",
   "metadata": {},
   "outputs": [
    {
     "data": {
      "text/plain": [
       "[<matplotlib.lines.Line2D at 0x2783ebeeaf0>]"
      ]
     },
     "execution_count": 64,
     "metadata": {},
     "output_type": "execute_result"
    },
    {
     "data": {
      "image/png": "[encoded data removed]",
      "text/plain": [
       "<Figure size 432x288 with 1 Axes>"
      ]
     },
     "metadata": {
      "needs_background": "light"
     },
     "output_type": "display_data"
    }
   ],
   "source": [
    "plt.plot(day_new, scaler.inverse_transform(df1[1378:]))\n",
    "plt.plot(day_pred,scaler.inverse_transform(lst_output))"
   ]
  },
  {
   "cell_type": "code",
   "execution_count": 67,
   "id": "ff4fa80a",
   "metadata": {},
   "outputs": [
    {
     "data": {
      "text/plain": [
       "[<matplotlib.lines.Line2D at 0x2783edbab80>]"
      ]
     },
     "execution_count": 67,
     "metadata": {},
     "output_type": "execute_result"
    },
    {
     "data": {
      "image/png": "[encoded data removed]",
      "text/plain": [
       "<Figure size 432x288 with 1 Axes>"
      ]
     },
     "metadata": {
      "needs_background": "light"
     },
     "output_type": "display_data"
    }
   ],
   "source": [
    "df3=df1.tolist()\n",
    "df3.extend(lst_output)\n",
    "plt.plot(df3[900:])"
   ]
  },
  {
   "cell_type": "code",
   "execution_count": null,
   "id": "6b294d83",
   "metadata": {},
   "outputs": [],
   "source": []
  }
 ],
 "metadata": {
  "kernelspec": {
   "display_name": "Python 3",
   "language": "python",
   "name": "python3"
  },
  "language_info": {
   "codemirror_mode": {
    "name": "ipython",
    "version": 3
   },
   "file_extension": ".py",
   "mimetype": "text/x-python",
   "name": "python",
   "nbconvert_exporter": "python",
   "pygments_lexer": "ipython3",
   "version": "3.8.8"
  }
 },
 "nbformat": 4,
 "nbformat_minor": 5
}
